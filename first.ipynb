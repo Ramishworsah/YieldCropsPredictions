{
 "cells": [
  {
   "cell_type": "code",
   "execution_count": 7,
   "metadata": {},
   "outputs": [
    {
     "name": "stdout",
     "output_type": "stream",
     "text": [
      "hello world\n"
     ]
    }
   ],
   "source": [
    "import pandas as pd \n",
    "print(\"hello world\")"
   ]
  },
  {
   "cell_type": "markdown",
   "id": "0d065179",
   "metadata": {},
   "source": []
  },
  {
   "cell_type": "markdown",
   "id": "d33b755a",
   "metadata": {},
   "source": [
    "#ml learning\n"
   ]
  },
  {
   "cell_type": "code",
   "execution_count": 9,
   "id": "12bd2c83",
   "metadata": {},
   "outputs": [
    {
     "name": "stdout",
     "output_type": "stream",
     "text": [
      "2.2.3\n",
      "2.1.3\n"
     ]
    }
   ],
   "source": [
    "import pandas as pd\n",
    "print(pd.__version__)\n",
    "import numpy as np\n",
    "print(np.__version__)\n"
   ]
  },
  {
   "cell_type": "markdown",
   "id": "21cd85bb",
   "metadata": {},
   "source": [
    "python basic to advanced courese"
   ]
  },
  {
   "cell_type": "code",
   "execution_count": 4,
   "id": "6af72e76",
   "metadata": {},
   "outputs": [
    {
     "name": "stdout",
     "output_type": "stream",
     "text": [
      "2 Odd number: 3 4 Odd number: 5 6 Odd number: 7 8 Odd number: 9 10 Odd number: 11 12 Odd number: 13 14 Odd number: 15 16 Odd number: 17 18 Odd number: 19 20 Odd number: 21 22 Odd number: 23 24 Odd number: 25 26 Odd number: 27 28 Odd number: 29 30 Odd number: 31 32 Odd number: 33 34 Odd number: 35 36 Odd number: 37 38 Odd number: 39 40 Odd number: 41 42 Odd number: 43 44 Odd number: 45 46 Odd number: 47 48 Odd number: 49 50 "
     ]
    }
   ],
   "source": [
    "num=int(input(\"Enter the number :\"))\n",
    "num1=int(input(\"Enter the number 2:\"))\n",
    "for i in range(num, num1+1):\n",
    "    if(i%2==0):\n",
    "        print(i, end=\" \")\n",
    "    else:\n",
    "        print(\"Odd number:\", i, end=\" \")\n",
    "\n"
   ]
  },
  {
   "cell_type": "markdown",
   "id": "77bb524d",
   "metadata": {},
   "source": [
    "Write a  multiplication table programs :"
   ]
  },
  {
   "cell_type": "code",
   "execution_count": 5,
   "id": "0929346b",
   "metadata": {},
   "outputs": [
    {
     "name": "stdout",
     "output_type": "stream",
     "text": [
      "5 x 1 = 5\n",
      "5 x 2 = 10\n",
      "5 x 3 = 15\n",
      "5 x 4 = 20\n",
      "5 x 5 = 25\n",
      "5 x 6 = 30\n",
      "5 x 7 = 35\n",
      "5 x 8 = 40\n",
      "5 x 9 = 45\n",
      "5 x 10 = 50\n",
      "Multiplication table of 5 is done.\n"
     ]
    }
   ],
   "source": [
    "num=int(input(\"Enter the number :\"))\n",
    "\n",
    "for i in range(1,11):\n",
    "    print(num, \"x\", i, \"=\", num*i)\n",
    "print(\"Multiplication table of\", num, \"is done.\")   "
   ]
  },
  {
   "cell_type": "markdown",
   "id": "6859b654",
   "metadata": {},
   "source": [
    "write a program for negative and postitive or zero"
   ]
  },
  {
   "cell_type": "code",
   "execution_count": 7,
   "id": "64916325",
   "metadata": {},
   "outputs": [
    {
     "name": "stdout",
     "output_type": "stream",
     "text": [
      "Positive number\n"
     ]
    }
   ],
   "source": [
    "num=int(input(\"Enter the number :\"))\n",
    "if(num>0):\n",
    "    print(\"Positive number\")\n",
    "elif(num<0):\n",
    "    print(\"Negative number\")    \n",
    "else:\n",
    "    print(\"Zero\")"
   ]
  }
 ],
 "metadata": {
  "kernelspec": {
   "display_name": "Python 3",
   "language": "python",
   "name": "python3"
  },
  "language_info": {
   "codemirror_mode": {
    "name": "ipython",
    "version": 3
   },
   "file_extension": ".py",
   "mimetype": "text/x-python",
   "name": "python",
   "nbconvert_exporter": "python",
   "pygments_lexer": "ipython3",
   "version": "3.12.8"
  }
 },
 "nbformat": 4,
 "nbformat_minor": 5
}
